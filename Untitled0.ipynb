{
  "nbformat": 4,
  "nbformat_minor": 0,
  "metadata": {
    "colab": {
      "provenance": [],
      "authorship_tag": "ABX9TyNs0Ugu77E2eYV28rsg/juF",
      "include_colab_link": true
    },
    "kernelspec": {
      "name": "python3",
      "display_name": "Python 3"
    },
    "language_info": {
      "name": "python"
    }
  },
  "cells": [
    {
      "cell_type": "markdown",
      "metadata": {
        "id": "view-in-github",
        "colab_type": "text"
      },
      "source": [
        "<a href=\"https://colab.research.google.com/github/Lucashs98/quadro/blob/main/Untitled0.ipynb\" target=\"_parent\"><img src=\"https://colab.research.google.com/assets/colab-badge.svg\" alt=\"Open In Colab\"/></a>"
      ]
    },
    {
      "cell_type": "code",
      "execution_count": 2,
      "metadata": {
        "colab": {
          "base_uri": "https://localhost:8080/"
        },
        "id": "ErD44J0bO3JF",
        "outputId": "ccce863d-33b7-4123-b011-1e216c9631a8"
      },
      "outputs": [
        {
          "name": "stdout",
          "output_type": "stream",
          "text": [
            "Nome do usuário: lucas\n",
            "Senha: Saga123\n"
          ]
        }
      ],
      "source": [
        "import os\n",
        "import datetime\n",
        "\n",
        "def login():\n",
        "    # Pergunta o nome do usuário\n",
        "    nome_usuario = input(\"Nome do usuário: \")\n",
        "\n",
        "    # Pergunta a senha\n",
        "    senha = input(\"Senha: \")\n",
        "\n",
        "    # Verifica se a senha está correta\n",
        "    if senha != \"Saga123\":\n",
        "        print(\"Senha incorreta.\")\n",
        "        return False\n",
        "\n",
        "    # Retorna o nome do usuário\n",
        "    return nome_usuario\n",
        "\n",
        "nome_usuario = login()\n"
      ]
    },
    {
      "cell_type": "code",
      "source": [
        "import os\n",
        "import datetime\n",
        "\n",
        "def informacoes():\n",
        "    # Obtém a data atual\n",
        "    data_atual = datetime.datetime.today().strftime(\"%d/%m/%Y\")\n",
        "\n",
        "    # Cria um dicionário para armazenar as informações\n",
        "    informacoes = {\n",
        "        \"vd\": 0,\n",
        "        \"faturados\": 0,\n",
        "        \"reprovados\": 0,\n",
        "        \"consorcio\": 0,\n",
        "        \"dd\": 0,\n",
        "        \"renave\": 0,\n",
        "        \"receitas\": 0,\n",
        "        \"veiculos_usados\": 0,\n",
        "        \"veiculos_novos\": 0,\n",
        "        \"aviso_venda\": 0,\n",
        "        \"trade_in\": 0,\n",
        "    }\n",
        "\n",
        "    # Obtém as informações do usuário\n",
        "    for campo in informacoes.keys():\n",
        "        informacoes[campo] = input(f\"Informe o valor do campo {campo}: \")\n",
        "\n",
        "    # Salva as informações no arquivo CSV\n",
        "    with open(\"relatorio.csv\", \"a\") as f:\n",
        "        f.write(f\"{nome_usuario}, {data_atual}, \" + \",\".join(informacoes.values()) + \"\\n\")\n",
        "\n",
        "informacoes()\n"
      ],
      "metadata": {
        "colab": {
          "base_uri": "https://localhost:8080/"
        },
        "id": "OrHyicg_Qom8",
        "outputId": "27d05d17-22f7-4108-a8ee-fe682dd96339"
      },
      "execution_count": 1,
      "outputs": [
        {
          "name": "stdout",
          "output_type": "stream",
          "text": [
            "Informe o valor do campo vd: 2\n",
            "Informe o valor do campo faturados: 10\n",
            "Informe o valor do campo reprovados: \n",
            "Informe o valor do campo consorcio: \n",
            "Informe o valor do campo dd: 4\n",
            "Informe o valor do campo renave: \n",
            "Informe o valor do campo receitas: \n",
            "Informe o valor do campo veiculos_usados: \n",
            "Informe o valor do campo veiculos_novos: \n",
            "Informe o valor do campo aviso_venda: 10\n",
            "Informe o valor do campo trade_in: \n"
          ]
        },
        {
          "output_type": "error",
          "ename": "NameError",
          "evalue": "ignored",
          "traceback": [
            "\u001b[0;31m---------------------------------------------------------------------------\u001b[0m",
            "\u001b[0;31mNameError\u001b[0m                                 Traceback (most recent call last)",
            "\u001b[0;32m<ipython-input-1-c771e3d667fa>\u001b[0m in \u001b[0;36m<cell line: 31>\u001b[0;34m()\u001b[0m\n\u001b[1;32m     29\u001b[0m         \u001b[0mf\u001b[0m\u001b[0;34m.\u001b[0m\u001b[0mwrite\u001b[0m\u001b[0;34m(\u001b[0m\u001b[0;34mf\"{nome_usuario}, {data_atual}, \"\u001b[0m \u001b[0;34m+\u001b[0m \u001b[0;34m\",\"\u001b[0m\u001b[0;34m.\u001b[0m\u001b[0mjoin\u001b[0m\u001b[0;34m(\u001b[0m\u001b[0minformacoes\u001b[0m\u001b[0;34m.\u001b[0m\u001b[0mvalues\u001b[0m\u001b[0;34m(\u001b[0m\u001b[0;34m)\u001b[0m\u001b[0;34m)\u001b[0m \u001b[0;34m+\u001b[0m \u001b[0;34m\"\\n\"\u001b[0m\u001b[0;34m)\u001b[0m\u001b[0;34m\u001b[0m\u001b[0;34m\u001b[0m\u001b[0m\n\u001b[1;32m     30\u001b[0m \u001b[0;34m\u001b[0m\u001b[0m\n\u001b[0;32m---> 31\u001b[0;31m \u001b[0minformacoes\u001b[0m\u001b[0;34m(\u001b[0m\u001b[0;34m)\u001b[0m\u001b[0;34m\u001b[0m\u001b[0;34m\u001b[0m\u001b[0m\n\u001b[0m",
            "\u001b[0;32m<ipython-input-1-c771e3d667fa>\u001b[0m in \u001b[0;36minformacoes\u001b[0;34m()\u001b[0m\n\u001b[1;32m     27\u001b[0m     \u001b[0;31m# Salva as informações no arquivo CSV\u001b[0m\u001b[0;34m\u001b[0m\u001b[0;34m\u001b[0m\u001b[0m\n\u001b[1;32m     28\u001b[0m     \u001b[0;32mwith\u001b[0m \u001b[0mopen\u001b[0m\u001b[0;34m(\u001b[0m\u001b[0;34m\"relatorio.csv\"\u001b[0m\u001b[0;34m,\u001b[0m \u001b[0;34m\"a\"\u001b[0m\u001b[0;34m)\u001b[0m \u001b[0;32mas\u001b[0m \u001b[0mf\u001b[0m\u001b[0;34m:\u001b[0m\u001b[0;34m\u001b[0m\u001b[0;34m\u001b[0m\u001b[0m\n\u001b[0;32m---> 29\u001b[0;31m         \u001b[0mf\u001b[0m\u001b[0;34m.\u001b[0m\u001b[0mwrite\u001b[0m\u001b[0;34m(\u001b[0m\u001b[0;34mf\"{nome_usuario}, {data_atual}, \"\u001b[0m \u001b[0;34m+\u001b[0m \u001b[0;34m\",\"\u001b[0m\u001b[0;34m.\u001b[0m\u001b[0mjoin\u001b[0m\u001b[0;34m(\u001b[0m\u001b[0minformacoes\u001b[0m\u001b[0;34m.\u001b[0m\u001b[0mvalues\u001b[0m\u001b[0;34m(\u001b[0m\u001b[0;34m)\u001b[0m\u001b[0;34m)\u001b[0m \u001b[0;34m+\u001b[0m \u001b[0;34m\"\\n\"\u001b[0m\u001b[0;34m)\u001b[0m\u001b[0;34m\u001b[0m\u001b[0;34m\u001b[0m\u001b[0m\n\u001b[0m\u001b[1;32m     30\u001b[0m \u001b[0;34m\u001b[0m\u001b[0m\n\u001b[1;32m     31\u001b[0m \u001b[0minformacoes\u001b[0m\u001b[0;34m(\u001b[0m\u001b[0;34m)\u001b[0m\u001b[0;34m\u001b[0m\u001b[0;34m\u001b[0m\u001b[0m\n",
            "\u001b[0;31mNameError\u001b[0m: name 'nome_usuario' is not defined"
          ]
        }
      ]
    }
  ]
}